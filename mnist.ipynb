{
 "cells": [
  {
   "cell_type": "code",
   "execution_count": 166,
   "metadata": {},
   "outputs": [],
   "source": [
    "import tensorflow as tf \n",
    "from tensorflow.keras.datasets import mnist\n",
    "import numpy as np \n",
    "import matplotlib.pyplot as plt\n",
    "import random"
   ]
  },
  {
   "cell_type": "code",
   "execution_count": 122,
   "metadata": {},
   "outputs": [],
   "source": [
    "(X_train, y_train), (X_test, y_test) = mnist.load_data()"
   ]
  },
  {
   "cell_type": "code",
   "execution_count": 123,
   "metadata": {},
   "outputs": [
    {
     "name": "stdout",
     "output_type": "stream",
     "text": [
      "The image wee see is 6\n"
     ]
    },
    {
     "data": {
      "text/plain": [
       "<matplotlib.image.AxesImage at 0x2431349ec70>"
      ]
     },
     "execution_count": 123,
     "metadata": {},
     "output_type": "execute_result"
    },
    {
     "data": {
      "image/png": "[encoded data removed]",
      "text/plain": [
       "<Figure size 640x480 with 1 Axes>"
      ]
     },
     "metadata": {},
     "output_type": "display_data"
    }
   ],
   "source": [
    "idx = random.randint(0,X_train.shape[0]-1)\n",
    "img2show, label = X_train[idx],y_train[idx]\n",
    "print(f'The image wee see is {label}')\n",
    "plt.imshow(img2show, cmap='gray')"
   ]
  },
  {
   "cell_type": "code",
   "execution_count": 124,
   "metadata": {},
   "outputs": [],
   "source": [
    "X_train, X_test = X_train.reshape(-1, 28*28), X_test.reshape(-1, 28*28)\n",
    "y_train, y_test=tf.keras.utils.to_categorical(y_train, 10), tf.keras.utils.to_categorical(y_test, 10)\n",
    "X_train, X_test = X_train/255.0, X_test/255.0"
   ]
  },
  {
   "cell_type": "code",
   "execution_count": 152,
   "metadata": {},
   "outputs": [],
   "source": [
    "from keras.models import Sequential\n",
    "from keras.layers import Dense\n",
    "from keras.optimizers import SGD, Adam"
   ]
  },
  {
   "cell_type": "code",
   "execution_count": 153,
   "metadata": {},
   "outputs": [
    {
     "data": {
      "text/plain": [
       "(784,)"
      ]
     },
     "execution_count": 153,
     "metadata": {},
     "output_type": "execute_result"
    }
   ],
   "source": [
    "X_train[0].shape"
   ]
  },
  {
   "cell_type": "code",
   "execution_count": 156,
   "metadata": {},
   "outputs": [
    {
     "name": "stdout",
     "output_type": "stream",
     "text": [
      "Model: \"sequential_10\"\n",
      "_________________________________________________________________\n",
      " Layer (type)                Output Shape              Param #   \n",
      "=================================================================\n",
      " dense_16 (Dense)            (None, 784)               615440    \n",
      "                                                                 \n",
      " dense_17 (Dense)            (None, 36)                28260     \n",
      "                                                                 \n",
      " dense_18 (Dense)            (None, 10)                370       \n",
      "                                                                 \n",
      "=================================================================\n",
      "Total params: 644,070\n",
      "Trainable params: 644,070\n",
      "Non-trainable params: 0\n",
      "_________________________________________________________________\n"
     ]
    }
   ],
   "source": [
    "model = Sequential()\n",
    "model.add(Dense(784, activation='relu', input_shape = (784,)))\n",
    "model.add(Dense(36, activation = 'relu'))\n",
    "model.add(Dense(10, activation='softmax'))\n",
    "model.summary()"
   ]
  },
  {
   "cell_type": "code",
   "execution_count": 158,
   "metadata": {},
   "outputs": [],
   "source": [
    "model.compile(optimizer='SGD', loss='categorical_crossentropy', metrics=['accuracy'])"
   ]
  },
  {
   "cell_type": "code",
   "execution_count": 159,
   "metadata": {},
   "outputs": [
    {
     "name": "stdout",
     "output_type": "stream",
     "text": [
      "Epoch 1/20\n",
      "1667/1667 [==============================] - 21s 12ms/step - loss: 0.6083 - accuracy: 0.8408 - val_loss: 0.3041 - val_accuracy: 0.9158\n",
      "Epoch 2/20\n",
      "1667/1667 [==============================] - 18s 11ms/step - loss: 0.2826 - accuracy: 0.9203 - val_loss: 0.2423 - val_accuracy: 0.9297\n",
      "Epoch 3/20\n",
      "1667/1667 [==============================] - 18s 11ms/step - loss: 0.2335 - accuracy: 0.9339 - val_loss: 0.2095 - val_accuracy: 0.9387\n",
      "Epoch 4/20\n",
      "1667/1667 [==============================] - 15s 9ms/step - loss: 0.2008 - accuracy: 0.9427 - val_loss: 0.1839 - val_accuracy: 0.9458\n",
      "Epoch 5/20\n",
      "1667/1667 [==============================] - 15s 9ms/step - loss: 0.1758 - accuracy: 0.9499 - val_loss: 0.1633 - val_accuracy: 0.9542\n",
      "Epoch 6/20\n",
      "1667/1667 [==============================] - 19s 12ms/step - loss: 0.1557 - accuracy: 0.9561 - val_loss: 0.1482 - val_accuracy: 0.9570\n",
      "Epoch 7/20\n",
      "1667/1667 [==============================] - 17s 10ms/step - loss: 0.1391 - accuracy: 0.9602 - val_loss: 0.1350 - val_accuracy: 0.9614\n",
      "Epoch 8/20\n",
      "1667/1667 [==============================] - 19s 11ms/step - loss: 0.1245 - accuracy: 0.9648 - val_loss: 0.1283 - val_accuracy: 0.9627\n",
      "Epoch 9/20\n",
      "1667/1667 [==============================] - 19s 11ms/step - loss: 0.1125 - accuracy: 0.9681 - val_loss: 0.1148 - val_accuracy: 0.9659\n",
      "Epoch 10/20\n",
      "1667/1667 [==============================] - 19s 12ms/step - loss: 0.1021 - accuracy: 0.9717 - val_loss: 0.1099 - val_accuracy: 0.9680\n",
      "Epoch 11/20\n",
      "1667/1667 [==============================] - 19s 11ms/step - loss: 0.0935 - accuracy: 0.9739 - val_loss: 0.1033 - val_accuracy: 0.9699\n",
      "Epoch 12/20\n",
      "1667/1667 [==============================] - 19s 11ms/step - loss: 0.0858 - accuracy: 0.9768 - val_loss: 0.0970 - val_accuracy: 0.9704\n",
      "Epoch 13/20\n",
      "1667/1667 [==============================] - 21s 13ms/step - loss: 0.0790 - accuracy: 0.9783 - val_loss: 0.0937 - val_accuracy: 0.9724\n",
      "Epoch 14/20\n",
      "1667/1667 [==============================] - 20s 12ms/step - loss: 0.0726 - accuracy: 0.9803 - val_loss: 0.0884 - val_accuracy: 0.9733\n",
      "Epoch 15/20\n",
      "1667/1667 [==============================] - 20s 12ms/step - loss: 0.0675 - accuracy: 0.9821 - val_loss: 0.0843 - val_accuracy: 0.9750\n",
      "Epoch 16/20\n",
      "1667/1667 [==============================] - 17s 10ms/step - loss: 0.0627 - accuracy: 0.9831 - val_loss: 0.0813 - val_accuracy: 0.9758\n",
      "Epoch 17/20\n",
      "1667/1667 [==============================] - 19s 11ms/step - loss: 0.0581 - accuracy: 0.9846 - val_loss: 0.0789 - val_accuracy: 0.9762\n",
      "Epoch 18/20\n",
      "1667/1667 [==============================] - 22s 13ms/step - loss: 0.0540 - accuracy: 0.9858 - val_loss: 0.0824 - val_accuracy: 0.9750\n",
      "Epoch 19/20\n",
      "1667/1667 [==============================] - 25s 15ms/step - loss: 0.0507 - accuracy: 0.9869 - val_loss: 0.0763 - val_accuracy: 0.9760\n",
      "Epoch 20/20\n",
      "1667/1667 [==============================] - 25s 15ms/step - loss: 0.0472 - accuracy: 0.9879 - val_loss: 0.0757 - val_accuracy: 0.9769\n"
     ]
    },
    {
     "data": {
      "text/plain": [
       "<keras.callbacks.History at 0x2431f8f2d60>"
      ]
     },
     "execution_count": 159,
     "metadata": {},
     "output_type": "execute_result"
    }
   ],
   "source": [
    "model.fit(X_train, y_train, epochs=20, batch_size=36, validation_data=(X_test, y_test))"
   ]
  },
  {
   "cell_type": "code",
   "execution_count": 162,
   "metadata": {},
   "outputs": [
    {
     "name": "stdout",
     "output_type": "stream",
     "text": [
      "1/1 [==============================] - 0s 35ms/step\n",
      "The predicted label is 3 and the true label is 3\n"
     ]
    }
   ],
   "source": [
    "idx_test = random.randint(0, X_test.shape[0]-1)\n",
    "img_test = X_test[idx_test]\n",
    "img_test = np.expand_dims(img_test, axis=0)\n",
    "prediction = model.predict(img_test)\n",
    "predict_label = np.argmax(prediction)\n",
    "true_label = y_test[idx_test]\n",
    "print(f'The predicted label is {predict_label} and the true label is {np.argmax(true_label)}')\n",
    "\n"
   ]
  },
  {
   "cell_type": "code",
   "execution_count": 164,
   "metadata": {},
   "outputs": [
    {
     "data": {
      "text/plain": [
       "array([0., 0., 0., 1., 0., 0., 0., 0., 0., 0.], dtype=float32)"
      ]
     },
     "execution_count": 164,
     "metadata": {},
     "output_type": "execute_result"
    }
   ],
   "source": [
    "prediction\n",
    "true_label"
   ]
  }
 ],
 "metadata": {
  "kernelspec": {
   "display_name": "envhome",
   "language": "python",
   "name": "python3"
  },
  "language_info": {
   "codemirror_mode": {
    "name": "ipython",
    "version": 3
   },
   "file_extension": ".py",
   "mimetype": "text/x-python",
   "name": "python",
   "nbconvert_exporter": "python",
   "pygments_lexer": "ipython3",
   "version": "3.9.5"
  },
  "orig_nbformat": 4,
  "vscode": {
   "interpreter": {
    "hash": "e289df151e5d66292ac5f4cd4caa566ee06834d2685d91175fe89b6e58588259"
   }
  }
 },
 "nbformat": 4,
 "nbformat_minor": 2
}
